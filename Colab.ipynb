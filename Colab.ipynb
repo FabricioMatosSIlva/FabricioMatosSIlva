{
  "nbformat": 4,
  "nbformat_minor": 0,
  "metadata": {
    "colab": {
      "provenance": [],
      "authorship_tag": "ABX9TyORT6cLKfzAgZkqRjo5Gq7+",
      "include_colab_link": true
    },
    "kernelspec": {
      "name": "python3",
      "display_name": "Python 3"
    },
    "language_info": {
      "name": "python"
    }
  },
  "cells": [
    {
      "cell_type": "markdown",
      "metadata": {
        "id": "view-in-github",
        "colab_type": "text"
      },
      "source": [
        "<a href=\"https://colab.research.google.com/github/FabricioMatosSIlva/FabricioMatosSIlva/blob/main/Colab.ipynb\" target=\"_parent\"><img src=\"https://colab.research.google.com/assets/colab-badge.svg\" alt=\"Open In Colab\"/></a>"
      ]
    },
    {
      "cell_type": "markdown",
      "source": [
        "\n",
        "\n",
        "#    Primeira Etapa: Carregamento das bases de dados\n",
        "\n",
        "---"
      ],
      "metadata": {
        "id": "gDCOtXJKi4H7"
      }
    },
    {
      "cell_type": "code",
      "execution_count": null,
      "metadata": {
        "id": "I4LK5N1BfMYv"
      },
      "outputs": [],
      "source": [
        "#Importando algumas libraries\n",
        "import pandas as pd\n",
        "import matplotlib.pyplot as plt\n",
        "import seaborn as sns"
      ]
    },
    {
      "cell_type": "code",
      "source": [
        "#Carregando as bases de dados\n",
        "citizen_demand = pd.read_csv(\"citizen_demand.csv\", encoding=\"ISO-8859-1\", sep=\";\")\n",
        "category = pd.read_csv(\"category.csv\", encoding=\"ISO-8859-1\", sep=\";\")\n",
        "entity = pd.read_excel(\"entity.xlsx\")"
      ],
      "metadata": {
        "collapsed": true,
        "id": "oPpsDa3OhhWe"
      },
      "execution_count": null,
      "outputs": []
    },
    {
      "cell_type": "markdown",
      "source": [
        "### TIVE PROBLEMAS AO CARREGAR AS BASES *department.csv* e *services_rating.csv*. Abaixo a resolução que encontrei para carregar as bases nas variaveis."
      ],
      "metadata": {
        "id": "_zb_PEI2hl2g"
      }
    },
    {
      "cell_type": "code",
      "source": [
        "# Tentativa de leitura do arquivo CSV com diferentes codificações e separadores\n",
        "# Isso garante que o pandas consiga abrir corretamente mesmo que o arquivo tenha problemas de acentuação ou formatação\n",
        "# Primeiro tento com UTF-8 (padrão), depois ISO-8859-1 (latin1), e por fim troca o separador para ponto e vírgula, caso necessasrio\n",
        "try:\n",
        "    services_rating = pd.read_csv(\"services_rating.csv\", encoding=\"utf-8\", sep=\",\")\n",
        "except UnicodeDecodeError:\n",
        "    services_rating = pd.read_csv(\"services_rating.csv\", encoding=\"ISO-8859-1\", sep=\",\")\n",
        "except pd.errors.ParserError:\n",
        "    services_rating = pd.read_csv(\"services_rating.csv\", encoding=\"ISO-8859-1\", sep=\";\")\n",
        "\n",
        "# Ver as 5 primeiras linhas\n",
        "print(services_rating.head())"
      ],
      "metadata": {
        "colab": {
          "base_uri": "https://localhost:8080/"
        },
        "id": "7gK5Iwjbgk3t",
        "outputId": "65f2372d-2436-4095-e863-13d97d223431"
      },
      "execution_count": null,
      "outputs": [
        {
          "output_type": "stream",
          "name": "stdout",
          "text": [
            "           id rating   user_id demand_code               created_at\n",
            "0  M7aiyW5VCx      5  HJo6fESd      5fECvG    2024-12-11 15:19:12.7\n",
            "1  4izu0axOqS      5  OGtikli8      KvACmK  2025-01-23 08:56:16.338\n",
            "2  woNaWjX0ON      5  jGQlLgY3      mKTWt9  2024-09-13 19:33:06.142\n",
            "3  X3UqPAZTF3      5  oclULROb      Rd78h2  2024-11-03 19:54:58.381\n",
            "4  tVlbNBZG0G      5  Ff9rTVfV      W9tQfN   2024-09-21 08:11:37.62\n"
          ]
        }
      ]
    },
    {
      "cell_type": "code",
      "source": [
        "try:\n",
        "    department = pd.read_csv(\"department.csv\", encoding=\"utf-8\", sep=\",\")\n",
        "except UnicodeDecodeError:\n",
        "    department = pd.read_csv(\"department.csv\", encoding=\"ISO-8859-1\", sep=\",\")\n",
        "except pd.errors.ParserError:\n",
        "    department = pd.read_csv(\"department.csv\", encoding=\"ISO-8859-1\", sep=\";\")\n",
        "\n",
        "# Ver as 5 primeiras linhas\n",
        "print(department.head())"
      ],
      "metadata": {
        "colab": {
          "base_uri": "https://localhost:8080/"
        },
        "id": "AyUXp8gYhPgf",
        "outputId": "5244a742-4d33-4f34-d5af-2ff7dc170b0b"
      },
      "execution_count": null,
      "outputs": [
        {
          "output_type": "stream",
          "name": "stdout",
          "text": [
            "   entity_id  idnum                                   entityBranchName\n",
            "0       1054    154                              Secretaria de Fazenda\n",
            "1       1054    155                                Secretaria de Saúde\n",
            "2       1054    158                        Secretaria de Ordem Pública\n",
            "3       1054    160                              Secretaria de Cultura\n",
            "4       1054    161  Secretaria de Meio Ambiente, Recursos Hídricos...\n"
          ]
        }
      ]
    },
    {
      "cell_type": "markdown",
      "source": [
        "\n",
        "#    Segunda etapa: Explorar a estrutura de cada bases\n",
        "\n",
        "---\n",
        "\n"
      ],
      "metadata": {
        "id": "x1agcSmujJpx"
      }
    },
    {
      "cell_type": "code",
      "source": [
        "# Visualiza as primeiras linhas de cada dataset\n",
        "print(\"Citizen Demand:\")\n",
        "print(citizen_demand.head())\n",
        "\n",
        "print(\"\\n Entity (Prefeituras):\")\n",
        "print(entity.head())\n",
        "\n",
        "print(\"\\n Category (Categorias de Zeladoria):\")\n",
        "print(category.head())\n",
        "\n",
        "print(\"\\n Department (Departamentos):\")\n",
        "print(department.head())\n",
        "\n",
        "print(\"\\n Services Rating (Avaliações):\")\n",
        "print(services_rating.head())"
      ],
      "metadata": {
        "colab": {
          "base_uri": "https://localhost:8080/"
        },
        "id": "05A5LbBajjsu",
        "outputId": "b279cb80-1524-49bd-aed5-90d6a4cf4888"
      },
      "execution_count": null,
      "outputs": [
        {
          "output_type": "stream",
          "name": "stdout",
          "text": [
            "Citizen Demand:\n",
            "     code   status       type               created_at  \\\n",
            "0  Wn8BNv  FECHADO  App Colab    2024-12-11 15:19:12.7   \n",
            "1  3ywoEG  FECHADO  App Colab  2025-02-25 12:36:40.937   \n",
            "2  03eiQZ  FECHADO  App Colab  2025-01-23 08:56:16.338   \n",
            "3  YlcP5h  FECHADO  App Colab  2024-07-08 14:29:25.864   \n",
            "4  ORnFA0  FECHADO  App Colab  2025-01-10 15:20:02.618   \n",
            "\n",
            "                   updated_at               closedDate  entity_id  \\\n",
            "0   2025-01-07 14:28:45.06261  2025-01-07 14:28:45.048       1054   \n",
            "1  2025-02-26 13:07:27.994937  2025-02-26 13:07:27.979       1054   \n",
            "2  2025-01-31 13:08:21.923511  2025-01-31 13:08:21.909       1054   \n",
            "3  2024-12-09 14:41:12.547045  2024-12-09 14:41:12.535       1054   \n",
            "4  2025-03-13 11:07:37.991845  2025-03-13 11:07:37.979       3569   \n",
            "\n",
            "   category_id  entityBranchId deleted_at  \n",
            "0        11674           162.0        NaN  \n",
            "1        11079           162.0        NaN  \n",
            "2         1727          1869.0        NaN  \n",
            "3        11138          1208.0        NaN  \n",
            "4        13443           490.0        NaN  \n",
            "\n",
            " Entity (Prefeituras):\n",
            "     id                 entity_name\n",
            "0  6589    Prefeitura de Bamerindus\n",
            "1  4544       Prefeitura de Bancesa\n",
            "2  1054        Prefeitura de Halles\n",
            "3  4778        Prefeitura de Morada\n",
            "4  1235  Prefeitura de Bandeirantes\n",
            "\n",
            " Category (Categorias de Zeladoria):\n",
            "      id                                   category  \\\n",
            "0  13364        Má conduta de motorista ou cobrador   \n",
            "1   3322  Placa de sinalização quebrada/inexistente   \n",
            "2   3367                                  Mato alto   \n",
            "3  12686        Conservação de vias não pavimentada   \n",
            "4  12549        Sarjeta- Reconstrução/renivelamento   \n",
            "\n",
            "                   created_at deleted_at  resolution_deadline post_visibility  \\\n",
            "0  2015-01-01 14:46:27.869699        NaN                   10             NaN   \n",
            "1  2015-01-24 13:52:23.476376        NaN                   10          public   \n",
            "2  2015-02-02 09:01:56.724807        NaN                   10        optional   \n",
            "3  2015-02-05 18:39:10.566756        NaN                   10    confidential   \n",
            "4  2015-02-23 03:34:12.572246        NaN                   10        optional   \n",
            "\n",
            "   public_deadline  \n",
            "0             True  \n",
            "1             True  \n",
            "2            False  \n",
            "3             True  \n",
            "4             True  \n",
            "\n",
            " Department (Departamentos):\n",
            "   entity_id  idnum                                   entityBranchName\n",
            "0       1054    154                              Secretaria de Fazenda\n",
            "1       1054    155                                Secretaria de Saúde\n",
            "2       1054    158                        Secretaria de Ordem Pública\n",
            "3       1054    160                              Secretaria de Cultura\n",
            "4       1054    161  Secretaria de Meio Ambiente, Recursos Hídricos...\n",
            "\n",
            " Services Rating (Avaliações):\n",
            "           id rating   user_id demand_code               created_at\n",
            "0  M7aiyW5VCx      5  HJo6fESd      5fECvG    2024-12-11 15:19:12.7\n",
            "1  4izu0axOqS      5  OGtikli8      KvACmK  2025-01-23 08:56:16.338\n",
            "2  woNaWjX0ON      5  jGQlLgY3      mKTWt9  2024-09-13 19:33:06.142\n",
            "3  X3UqPAZTF3      5  oclULROb      Rd78h2  2024-11-03 19:54:58.381\n",
            "4  tVlbNBZG0G      5  Ff9rTVfV      W9tQfN   2024-09-21 08:11:37.62\n"
          ]
        }
      ]
    },
    {
      "cell_type": "markdown",
      "source": [
        "\n",
        "#    Terceira etapa: Verificar dados NaN e tipagens\n",
        "\n",
        "---"
      ],
      "metadata": {
        "id": "Ow-ouuQYkXhw"
      }
    },
    {
      "cell_type": "code",
      "source": [
        "# Checar tipagem e valores Nan\n",
        "# Verificação básica da estrutura de cada dataset:\n",
        "# - .info() mostra os tipos de dados e quantidade de entradas não nulas\n",
        "# - .isnull().sum() mostra quantos valores faltantes existem em cada coluna\n",
        "# Isso ajuda a identificar colunas que precisam de tratamento antes da análise.\n",
        "print(\"\\n Verificação de nulos e tipos de dados:\")\n",
        "for df_name, df in zip(\n",
        "    ['citizen_demand', 'entity', 'category', 'department', 'services_rating'],\n",
        "    [citizen_demand, entity, category, department, services_rating]\n",
        "):\n",
        "    print(f\"\\n {df_name}:\")\n",
        "    print(df.info())\n",
        "    print(df.isnull().sum())"
      ],
      "metadata": {
        "colab": {
          "base_uri": "https://localhost:8080/"
        },
        "id": "8McpboWvkZIV",
        "outputId": "a9813a63-44c4-4cda-e111-93414040de84"
      },
      "execution_count": null,
      "outputs": [
        {
          "output_type": "stream",
          "name": "stdout",
          "text": [
            "\n",
            " Verificação de nulos e tipos de dados:\n",
            "\n",
            " citizen_demand:\n",
            "<class 'pandas.core.frame.DataFrame'>\n",
            "RangeIndex: 67028 entries, 0 to 67027\n",
            "Data columns (total 10 columns):\n",
            " #   Column          Non-Null Count  Dtype  \n",
            "---  ------          --------------  -----  \n",
            " 0   code            67028 non-null  object \n",
            " 1   status          67028 non-null  object \n",
            " 2   type            67028 non-null  object \n",
            " 3   created_at      67028 non-null  object \n",
            " 4   updated_at      67028 non-null  object \n",
            " 5   closedDate      38168 non-null  object \n",
            " 6   entity_id       67028 non-null  int64  \n",
            " 7   category_id     67028 non-null  int64  \n",
            " 8   entityBranchId  66981 non-null  float64\n",
            " 9   deleted_at      185 non-null    object \n",
            "dtypes: float64(1), int64(2), object(7)\n",
            "memory usage: 5.1+ MB\n",
            "None\n",
            "code                  0\n",
            "status                0\n",
            "type                  0\n",
            "created_at            0\n",
            "updated_at            0\n",
            "closedDate        28860\n",
            "entity_id             0\n",
            "category_id           0\n",
            "entityBranchId       47\n",
            "deleted_at        66843\n",
            "dtype: int64\n",
            "\n",
            " entity:\n",
            "<class 'pandas.core.frame.DataFrame'>\n",
            "RangeIndex: 17 entries, 0 to 16\n",
            "Data columns (total 2 columns):\n",
            " #   Column       Non-Null Count  Dtype \n",
            "---  ------       --------------  ----- \n",
            " 0   id           17 non-null     int64 \n",
            " 1   entity_name  17 non-null     object\n",
            "dtypes: int64(1), object(1)\n",
            "memory usage: 404.0+ bytes\n",
            "None\n",
            "id             0\n",
            "entity_name    0\n",
            "dtype: int64\n",
            "\n",
            " category:\n",
            "<class 'pandas.core.frame.DataFrame'>\n",
            "RangeIndex: 383 entries, 0 to 382\n",
            "Data columns (total 7 columns):\n",
            " #   Column               Non-Null Count  Dtype \n",
            "---  ------               --------------  ----- \n",
            " 0   id                   383 non-null    int64 \n",
            " 1   category             383 non-null    object\n",
            " 2   created_at           383 non-null    object\n",
            " 3   deleted_at           16 non-null     object\n",
            " 4   resolution_deadline  383 non-null    int64 \n",
            " 5   post_visibility      321 non-null    object\n",
            " 6   public_deadline      383 non-null    bool  \n",
            "dtypes: bool(1), int64(2), object(4)\n",
            "memory usage: 18.5+ KB\n",
            "None\n",
            "id                       0\n",
            "category                 0\n",
            "created_at               0\n",
            "deleted_at             367\n",
            "resolution_deadline      0\n",
            "post_visibility         62\n",
            "public_deadline          0\n",
            "dtype: int64\n",
            "\n",
            " department:\n",
            "<class 'pandas.core.frame.DataFrame'>\n",
            "RangeIndex: 153 entries, 0 to 152\n",
            "Data columns (total 3 columns):\n",
            " #   Column            Non-Null Count  Dtype \n",
            "---  ------            --------------  ----- \n",
            " 0   entity_id         153 non-null    int64 \n",
            " 1   idnum             153 non-null    int64 \n",
            " 2   entityBranchName  153 non-null    object\n",
            "dtypes: int64(2), object(1)\n",
            "memory usage: 3.7+ KB\n",
            "None\n",
            "entity_id           0\n",
            "idnum               0\n",
            "entityBranchName    0\n",
            "dtype: int64\n",
            "\n",
            " services_rating:\n",
            "<class 'pandas.core.frame.DataFrame'>\n",
            "RangeIndex: 31948 entries, 0 to 31947\n",
            "Data columns (total 5 columns):\n",
            " #   Column       Non-Null Count  Dtype \n",
            "---  ------       --------------  ----- \n",
            " 0   id           31948 non-null  object\n",
            " 1   rating       31948 non-null  object\n",
            " 2   user_id      31948 non-null  object\n",
            " 3   demand_code  31948 non-null  object\n",
            " 4   created_at   31948 non-null  object\n",
            "dtypes: object(5)\n",
            "memory usage: 1.2+ MB\n",
            "None\n",
            "id             0\n",
            "rating         0\n",
            "user_id        0\n",
            "demand_code    0\n",
            "created_at     0\n",
            "dtype: int64\n"
          ]
        }
      ]
    },
    {
      "cell_type": "code",
      "source": [
        "# Converter colunas de data para o formato datetime\n",
        "citizen_demand[\"created_at\"] = pd.to_datetime(citizen_demand[\"created_at\"], errors='coerce')\n",
        "citizen_demand[\"closedDate\"] = pd.to_datetime(citizen_demand[\"closedDate\"], errors='coerce')\n",
        "\n",
        "# Criar coluna de tempo de resolução em dias\n",
        "citizen_demand[\"tempo_resolucao\"] = (citizen_demand[\"closedDate\"] - citizen_demand[\"created_at\"]).dt.days\n",
        "\n",
        "# Filtrar apenas demandas válidasa\n",
        "demandas_validas = citizen_demand[citizen_demand[\"deleted_at\"].isna()]\n",
        "\n",
        "# Conversão de datas e criação da coluna de tempo de resolução.\n",
        "# Também removemos as demandas que foram deletadas pelo cidadão,\n",
        "# pois essas não exigiram ação da prefeitura."
      ],
      "metadata": {
        "id": "SAlz7hq-lVob"
      },
      "execution_count": null,
      "outputs": []
    },
    {
      "cell_type": "code",
      "source": [
        "# Agrupar dados por categorias\n",
        "indicadores = (\n",
        "    demandas_validas.groupby(\"category_id\")\n",
        "    .agg(\n",
        "        total_demandas=(\"code\", \"count\"),\n",
        "        resolvidas=(\"status\", lambda x: (x == \"FECHADO\").sum()),\n",
        "        tempo_medio_resolucao=(\"tempo_resolucao\", \"mean\")\n",
        "    )\n",
        "    .reset_index()\n",
        ")\n",
        "\n",
        "# Calcular taxa de resolução\n",
        "indicadores[\"taxa_resolucao\"] = indicadores[\"resolvidas\"] / indicadores[\"total_demandas\"]\n",
        "\n",
        "# Juntar com o nome da categoria\n",
        "indicadores = indicadores.merge(category[[\"id\", \"category\"]], left_on=\"category_id\", right_on=\"id\")\n",
        "\n",
        "# Agrupamento das demandas por categoria para calcular:\n",
        "# - total de demandas\n",
        "# - número de demandas resolvidas\n",
        "# - tempo médio de resolução\n",
        "# Depois, calculamos a taxa de resolução e juntamos com o nome da categoria."
      ],
      "metadata": {
        "id": "zljREwT5llCy"
      },
      "execution_count": null,
      "outputs": []
    },
    {
      "cell_type": "code",
      "source": [
        "# Ordenar pelas categorias mais relevantes\n",
        "recomendadas = indicadores.sort_values(\n",
        "    by=[\"total_demandas\", \"taxa_resolucao\"], ascending=[False, False]\n",
        ").head(5)\n",
        "\n",
        "print(\"5 Categorias recomendadas:\")\n",
        "print(recomendadas[[\"category\", \"total_demandas\", \"taxa_resolucao\", \"tempo_medio_resolucao\"]])\n",
        "\n",
        "# Selecionamos as 5 categorias com mais volume de demandas\n",
        "# e melhor taxa de resolução para recomendar à nova prefeitura."
      ],
      "metadata": {
        "colab": {
          "base_uri": "https://localhost:8080/"
        },
        "id": "8JrYoKmLlxtu",
        "outputId": "69b55d5e-d619-4d8c-db1a-aac8d0a9052b"
      },
      "execution_count": null,
      "outputs": [
        {
          "output_type": "stream",
          "name": "stdout",
          "text": [
            "5 Categorias recomendadas:\n",
            "                    category  total_demandas  taxa_resolucao  \\\n",
            "12   LÂMPADA APAGADA À NOITE            4271        0.795364   \n",
            "78           Buraco nas vias            3095        0.515670   \n",
            "148  LÂMPADA APAGADA À NOITE            2948        0.769335   \n",
            "107           PODA DE ÁRVORE            1965        0.215776   \n",
            "132          Buraco nas vias            1819        0.851017   \n",
            "\n",
            "     tempo_medio_resolucao  \n",
            "12               28.290513  \n",
            "78               43.824937  \n",
            "148              28.290394  \n",
            "107              35.601415  \n",
            "132              32.050518  \n"
          ]
        }
      ]
    },
    {
      "cell_type": "markdown",
      "source": [
        "# Calcular nota média de avaliação por categoria\n",
        "\n",
        "---\n",
        "\n"
      ],
      "metadata": {
        "id": "peNDFLmumXKE"
      }
    },
    {
      "cell_type": "code",
      "source": [
        "# Garantir que a coluna de nota está em formato numérico\n",
        "services_rating[\"rating\"] = pd.to_numeric(services_rating[\"rating\"], errors=\"coerce\")\n",
        "\n",
        "# Cruzar avaliações com demandas válidas para pegar o category_id\n",
        "avaliacoes = services_rating.merge(\n",
        "    demandas_validas[[\"code\", \"category_id\"]],\n",
        "    left_on=\"demand_code\", right_on=\"code\"\n",
        ")\n",
        "\n",
        "# Calcular a média das notas por categoria\n",
        "avaliacoes_categoria = (\n",
        "    avaliacoes.groupby(\"category_id\")[\"rating\"].mean().reset_index()\n",
        "    .merge(category[[\"id\", \"category\"]], left_on=\"category_id\", right_on=\"id\")\n",
        ")\n",
        "\n",
        "# Exibir ordenado por melhor avaliação\n",
        "print(\"\\n Nota média por categoria:\")\n",
        "print(avaliacoes_categoria.sort_values(by=\"rating\", ascending=False))\n",
        "\n",
        "# Convertendo a coluna 'rating' para numérico, ignorando erros (strings ou valores inválidos).\n",
        "# Assim conseguimos calcular a média corretamente por categoria."
      ],
      "metadata": {
        "colab": {
          "base_uri": "https://localhost:8080/"
        },
        "id": "v8bTGtO4mfhr",
        "outputId": "8bf169d3-6eec-4b4f-bc6f-967f9457b7de"
      },
      "execution_count": null,
      "outputs": [
        {
          "output_type": "stream",
          "name": "stdout",
          "text": [
            "\n",
            " Nota média por categoria:\n",
            "     category_id  rating     id                              category\n",
            "287        13499     5.0  13499  Publicidade irregular em via pública\n",
            "285        13495     5.0  13495   PONTO RECORRENTE DE POLUIÇÃO SONORA\n",
            "17          1695     5.0   1695                            Praia suja\n",
            "261        13393     5.0  13393         Ônibus/trem/metrô superlotado\n",
            "241        12683     5.0  12683       Academia das praças danificados\n",
            "..           ...     ...    ...                                   ...\n",
            "231        12669     1.0  12669                   Veículo abandonado \n",
            "221        12652     NaN  12652                       Bloqueio na Via\n",
            "230        12667     NaN  12667           Foco de mosquito da dengue \n",
            "233        12671     NaN  12671               DESMATAMENTO IRREGULAR \n",
            "245        12802     NaN  12802                               NitBike\n",
            "\n",
            "[313 rows x 4 columns]\n"
          ]
        }
      ]
    },
    {
      "cell_type": "code",
      "source": [
        "# Junta os indicadores de demanda com as notas médias por categoria\n",
        "ranking = indicadores.merge(\n",
        "    avaliacoes_categoria[[\"category_id\", \"rating\"]],\n",
        "    on=\"category_id\",\n",
        "    how=\"left\"\n",
        ")"
      ],
      "metadata": {
        "id": "PZ7f8rEgniuH"
      },
      "execution_count": null,
      "outputs": []
    },
    {
      "cell_type": "code",
      "source": [
        "# Junta os indicadores de demanda com as notas médias por categoria\n",
        "ranking = indicadores.merge(\n",
        "    avaliacoes_categoria[[\"category_id\", \"rating\"]],\n",
        "    on=\"category_id\",\n",
        "    how=\"left\"\n",
        ")"
      ],
      "metadata": {
        "id": "wX0xIT7anuyk"
      },
      "execution_count": null,
      "outputs": []
    },
    {
      "cell_type": "code",
      "source": [
        "# Normalizar indicadores entre 0 e 1\n",
        "ranking[\"score_demandas\"] = ranking[\"total_demandas\"] / ranking[\"total_demandas\"].max()\n",
        "ranking[\"score_resolucao\"] = ranking[\"taxa_resolucao\"]\n",
        "ranking[\"score_avaliacao\"] = ranking[\"rating\"] / ranking[\"rating\"].max()\n",
        "ranking[\"score_tempo\"] = 1 - (ranking[\"tempo_medio_resolucao\"] / ranking[\"tempo_medio_resolucao\"].max())"
      ],
      "metadata": {
        "id": "X3ZdDjuAnxR5"
      },
      "execution_count": null,
      "outputs": []
    },
    {
      "cell_type": "code",
      "source": [
        "from sklearn.preprocessing import MinMaxScaler\n",
        "\n",
        "scaler = MinMaxScaler()\n",
        "ranking[['score_demandas', 'score_resolucao', 'score_avaliacao', 'score_tempo']] = scaler.fit_transform(\n",
        "    ranking[['score_demandas', 'score_resolucao', 'score_avaliacao', 'score_tempo']]\n",
        ")\n",
        "\n",
        "ranking['score_final'] = (\n",
        "    ranking['score_demandas'] *\n",
        "    ranking['score_resolucao'] *\n",
        "    ranking['score_avaliacao'] *\n",
        "    ranking['score_tempo']\n",
        ")"
      ],
      "metadata": {
        "id": "x_-E6leon8N3"
      },
      "execution_count": 55,
      "outputs": []
    },
    {
      "cell_type": "code",
      "source": [
        "recomendadas_final = ranking.sort_values(by=\"score_final\", ascending=False).head(5)\n",
        "\n",
        "print(\"\\n 5 categorias recomendadas com base em múltiplos critérios:\")\n",
        "print(recomendadas_final[[\"category\", \"total_demandas\", \"taxa_resolucao\", \"tempo_medio_resolucao\", \"rating\", \"score_final\"]])"
      ],
      "metadata": {
        "colab": {
          "base_uri": "https://localhost:8080/"
        },
        "id": "Rns6e_sFoW2M",
        "outputId": "029ad31d-f9b0-47b8-c1f1-8aee59b73d97"
      },
      "execution_count": 56,
      "outputs": [
        {
          "output_type": "stream",
          "name": "stdout",
          "text": [
            "\n",
            " 5 categorias recomendadas com base em múltiplos critérios:\n",
            "                       category  total_demandas  taxa_resolucao  \\\n",
            "12      LÂMPADA APAGADA À NOITE            4271        0.795364   \n",
            "150     LÂMPADA APAGADA À NOITE            2948        0.769335   \n",
            "134             Buraco nas vias            1819        0.851017   \n",
            "80              Buraco nas vias            3095        0.515670   \n",
            "117  Descarte irregular de lixo            1011        0.851632   \n",
            "\n",
            "     tempo_medio_resolucao    rating  score_final  \n",
            "12               28.290513  3.782708     0.494246  \n",
            "150              28.290394  3.880918     0.341593  \n",
            "134              32.050518  3.916667     0.232245  \n",
            "80               43.824937  3.822306     0.220039  \n",
            "117              10.379270  3.943089     0.142409  \n"
          ]
        }
      ]
    },
    {
      "cell_type": "code",
      "source": [
        "import matplotlib.pyplot as plt\n",
        "\n",
        "plt.figure(figsize=(10, 6))\n",
        "plt.barh(recomendadas_final[\"category\"], recomendadas_final[\"score_final\"], color='skyblue')\n",
        "plt.xlabel(\"Score Final\")\n",
        "plt.title(\"Top 5 Categorias Recomendadas\")\n",
        "plt.gca().invert_yaxis()\n",
        "plt.show()"
      ],
      "metadata": {
        "colab": {
          "base_uri": "https://localhost:8080/",
          "height": 564
        },
        "id": "EWrTdOYGpRlJ",
        "outputId": "57c7b40d-7d6a-46b6-e76d-6731762eec09"
      },
      "execution_count": 57,
      "outputs": [
        {
          "output_type": "display_data",
          "data": {
            "text/plain": [
              "<Figure size 1000x600 with 1 Axes>"
            ],
            "image/png": "[encoded data removed]"
          },
          "metadata": {}
        }
      ]
    },
    {
      "cell_type": "code",
      "source": [
        "recomendadas_final.to_csv(\"categorias_recomendadas.csv\", index=False)"
      ],
      "metadata": {
        "id": "InAAZXXlpjVN"
      },
      "execution_count": 54,
      "outputs": []
    }
  ]
}